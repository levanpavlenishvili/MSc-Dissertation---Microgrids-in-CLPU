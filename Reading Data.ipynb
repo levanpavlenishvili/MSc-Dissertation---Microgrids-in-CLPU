{
 "cells": [
  {
   "cell_type": "code",
   "execution_count": 2,
   "metadata": {},
   "outputs": [],
   "source": [
    "import seaborn as sns\n",
    "import pandas as pd\n",
    "import numpy as np\n",
    "\n",
    "#Network Generration Parameters\n",
    "\n",
    "Network_Power=pd.read_excel('Model Parameters_V1.xlsx', sheet_name=0)\n",
    "\n",
    "NPD_df=pd.DataFrame(Network_Power)\n",
    "\n",
    "\n",
    "PN_min=NPD_df.set_index('T')['PN_min'].to_dict()\n",
    "PN_max_d=NPD_df.set_index('T')['PN_max'].to_dict()"
   ]
  },
  {
   "cell_type": "code",
   "execution_count": 2,
   "metadata": {},
   "outputs": [],
   "source": [
    "#Line Parameters\n",
    "\n",
    "Line_Par=pd.read_excel('Model Parameters_V1.xlsx', sheet_name=1)\n",
    "\n",
    "LF_df=pd.DataFrame(Line_Par)\n",
    "\n",
    "fmin_l=LF_df.set_index('L')['fmin_l'].to_dict()\n",
    "fmax_l=LF_df.set_index('L')['fmax_l'].to_dict()"
   ]
  },
  {
   "cell_type": "code",
   "execution_count": 156,
   "metadata": {},
   "outputs": [],
   "source": [
    "#Reactance Matrix\n",
    "\n",
    "Reactance=pd.read_excel('Model Parameters_V1.xlsx', sheet_name=2)\n",
    "\n",
    "XL_df=pd.DataFrame(Reactance)\n",
    "\n",
    "XL=XL_df.set_index('L')['X'].to_dict()\n"
   ]
  },
  {
   "cell_type": "code",
   "execution_count": 3,
   "metadata": {},
   "outputs": [],
   "source": [
    "#A matrix line-adjacency matrix\n",
    "\n",
    "Line_adjacency=pd.read_excel('Model Parameters_V1.xlsx', sheet_name=15)\n",
    "\n",
    "ALIM_df=pd.DataFrame(Line_adjacency)\n",
    "\n",
    "A_matrixIM=ALIM_df.set_index('L', inplace=False)\n",
    "\n",
    "AIM=A_matrixIM.stack().to_dict()\n",
    "\n",
    "Line_adjacencyOM=pd.read_excel('Model Parameters_V1.xlsx', sheet_name=16)\n",
    "\n",
    "ALOM_df=pd.DataFrame(Line_adjacencyOM)\n",
    "\n",
    "A_matrixOM=ALOM_df.set_index('L', inplace=False)\n",
    "\n",
    "AOM=A_matrixOM.stack().to_dict()\n",
    "\n",
    "Line_adjacencyB=pd.read_excel('Model Parameters_V1.xlsx', sheet_name=17)\n",
    "\n",
    "ALB_df=pd.DataFrame(Line_adjacencyB)\n",
    "\n",
    "A_matrixB=ALB_df.set_index('L', inplace=False)\n",
    "\n",
    "AB=A_matrixB.stack().to_dict()\n",
    "\n",
    "#AL_df1=AL_df.groupby(AL_df.Type)\n",
    "\n",
    "#AL_df_I=AL_df1.get_group('IM')\n",
    "\n",
    "#AL_df_IM = AL_df_I.drop(['Type'], axis=1)\n",
    "\n",
    "#AL_df_O=AL_df1.get_group('OM')\n",
    "\n",
    "#AL_df_OM=AL_df_O.drop(['Type'], axis=1)\n",
    "\n",
    "#AL_df_Bf=AL_df1.get_group('B')\n",
    "\n",
    "#AL_df_B=AL_df_Bf.drop(['Type'], axis=1)\n",
    "\n",
    "#A_matrixIM=AL_df_IM.set_index('L', inplace=False)\n",
    "\n",
    "#AIM=A_matrixIM.stack().to_dict()\n",
    "\n",
    "#A_matrixOM=AL_df_OM.set_index('L', inplace=False)\n",
    "\n",
    "#AOM=A_matrixOM.stack().to_dict()\n",
    "\n",
    "#A_matrixB=AL_df_B.set_index('L', inplace=False)\n",
    "\n",
    "#AB=A_matrixB.stack().to_dict()\n",
    "\n",
    "\n"
   ]
  },
  {
   "cell_type": "code",
   "execution_count": 4,
   "metadata": {},
   "outputs": [],
   "source": [
    "#Islanded Microgrid Generation and Storage Parameters\n",
    "\n",
    "IM_Par=pd.read_excel('Model Parameters_V1.xlsx', sheet_name=4)\n",
    "\n",
    "IM_GenS=pd.DataFrame(IM_Par)\n",
    "\n",
    "Pmin_mg=IM_GenS.set_index(['M', 'G'])['Pimin_mg'].to_dict()\n",
    "\n",
    "Pmax_mg=IM_GenS.set_index(['M', 'G'])['Pimax_mg'].to_dict()\n",
    "\n",
    "RUI_mg=IM_GenS.set_index(['M', 'G'])['RUI_mg'].to_dict()\n",
    "\n",
    "RDI_mg=IM_GenS.set_index(['M', 'G'])['RDI_mg'].to_dict()\n",
    "\n",
    "Emin_m=IM_GenS.set_index(['M'])['Eimin_m'].to_dict()\n",
    "\n",
    "Emax_m=IM_GenS.set_index(['M'])['Eimax_m'].to_dict()\n",
    "\n",
    "PISDmax_m=IM_GenS.set_index(['M'])['PISDmax_m'].to_dict()\n",
    "\n",
    "PISCmax_m=IM_GenS.set_index(['M'])['PISCmax_m'].to_dict()\n",
    "\n",
    "sigmaIS_m=IM_GenS.set_index(['M'])['sigmaIS_m'].to_dict()\n"
   ]
  },
  {
   "cell_type": "code",
   "execution_count": 5,
   "metadata": {},
   "outputs": [],
   "source": [
    "#Outaged Microgrid Generation and Storage Parameters \n",
    "\n",
    "OM_Par=pd.read_excel('Model Parameters_V1.xlsx', sheet_name=5)\n",
    "\n",
    "OM_GenS=pd.DataFrame(OM_Par)\n",
    "\n",
    "Pmin_ng=OM_GenS.set_index(['N', 'G'])['Pomin_ng'].to_dict()\n",
    "\n",
    "Pmax_ng=OM_GenS.set_index(['N', 'G'])['Pomax_ng'].to_dict()\n",
    "\n",
    "RUO_ng=OM_GenS.set_index(['N', 'G'])['RUO_ng'].to_dict()\n",
    "\n",
    "RDO_ng=OM_GenS.set_index(['N', 'G'])['RDO_ng'].to_dict()\n",
    "\n",
    "Emin_n=OM_GenS.set_index(['N'])['EOmin'].to_dict()\n",
    "\n",
    "Emax_n=OM_GenS.set_index(['N'])['EOmax'].to_dict()\n",
    "\n",
    "POSDmax_n=OM_GenS.set_index(['N'])['POSD_max'].to_dict()\n",
    "\n",
    "POSCmax_n=OM_GenS.set_index(['N'])['POSC_max'].to_dict()\n",
    "\n",
    "sigmaOS_n=OM_GenS.set_index(['N'])['sigmaOS_n'].to_dict()\n"
   ]
  },
  {
   "cell_type": "code",
   "execution_count": 11,
   "metadata": {},
   "outputs": [
    {
     "name": "stdout",
     "output_type": "stream",
     "text": [
      "{(1, 1): 195.41015625, (1, 2): 96.5576171875, (1, 3): 97.705078125, (2, 1): 181.1578369140625, (2, 2): 85.86837768554688, (2, 3): 90.57891845703125, (3, 1): 180.819091796875, (3, 2): 85.61431884765625, (3, 3): 90.4095458984375, (4, 1): 181.2786865234375, (4, 2): 85.95901489257812, (4, 3): 90.63934326171875, (5, 1): 198.60107421875, (5, 2): 98.9508056640625, (5, 3): 99.300537109375, (6, 1): 196.9366455078125, (6, 2): 97.70248413085938, (6, 3): 98.46832275390625, (7, 1): 199.302978515625, (7, 2): 99.47723388671875, (7, 3): 99.6514892578125, (8, 1): 192.7410888671875, (8, 2): 94.55581665039062, (8, 3): 96.37054443359375, (9, 1): 180.3466796875, (9, 2): 85.260009765625, (9, 3): 90.17333984375, (10, 1): 182.6763916015625, (10, 2): 87.00729370117188, (10, 3): 91.33819580078125, (11, 1): 181.029052734375, (11, 2): 85.77178955078125, (11, 3): 90.5145263671875, (12, 1): 185.1019287109375, (12, 2): 88.82644653320312, (12, 3): 92.55096435546875}\n"
     ]
    }
   ],
   "source": [
    "#Islanded Microgrid Load \n",
    "\n",
    "DIM_m=pd.read_excel('Model Parameters_V1.xlsx', sheet_name=6)\n",
    "\n",
    "DIM_df=pd.DataFrame(DIM_m)\n",
    "\n",
    "DIM_matrix=DIM_df.set_index('T', inplace=False)\n",
    "\n",
    "DIM=DIM_matrix.stack().to_dict()\n",
    "\n"
   ]
  },
  {
   "cell_type": "code",
   "execution_count": 6,
   "metadata": {},
   "outputs": [
    {
     "name": "stdout",
     "output_type": "stream",
     "text": [
      "{1: 198.40423583984375, 2: 198.9361572265625, 3: 97.872314453125}\n"
     ]
    }
   ],
   "source": [
    "#Outaged Microgrid Load\n",
    "\n",
    "SUOM_dat=pd.read_excel('Model Parameters_V1.xlsx', sheet_name=9)\n",
    "\n",
    "SUOM_df=pd.DataFrame(SUOM_dat)\n",
    "\n",
    "SUOM=SUOM_df.set_index('OM')['SUOM'].to_dict()\n",
    "\n",
    "DOM_n=pd.read_excel('Model Parameters_V1.xlsx', sheet_name=7)\n",
    "\n",
    "DOM_df=pd.DataFrame(DOM_n)\n",
    "\n",
    "DOM=DOM_df.set_index('N')['Load'].to_dict()\n",
    "\n"
   ]
  },
  {
   "cell_type": "code",
   "execution_count": 7,
   "metadata": {},
   "outputs": [],
   "source": [
    "#Outaged Microgrid Load OM\n",
    "\n",
    "DeltaO_tk=pd.read_excel('Model Parameters_V1.xlsx', sheet_name=8)\n",
    "\n",
    "DeltaO_df=pd.DataFrame(DeltaO_tk)\n",
    "\n",
    "DeltaO_matrix=DeltaO_df.set_index(['T', 'N'], inplace=False)\n",
    "\n",
    "DeltaO=DeltaO_matrix.stack().to_dict()\n"
   ]
  },
  {
   "cell_type": "code",
   "execution_count": 8,
   "metadata": {},
   "outputs": [
    {
     "data": {
      "text/plain": [
       "{1: 299.5884704589844, 2: 199.6514892578125, 3: 138.40423583984375}"
      ]
     },
     "execution_count": 8,
     "metadata": {},
     "output_type": "execute_result"
    }
   ],
   "source": [
    "#Bus Loads\n",
    "\n",
    "SUB_dat=pd.read_excel('Model Parameters_V1.xlsx', sheet_name=10)\n",
    "\n",
    "SUB_df=pd.DataFrame(SUB_dat)\n",
    "\n",
    "SUB=SUB_df.set_index('B')['SUB'].to_dict()\n",
    "\n",
    "DBL_b=pd.read_excel('Model Parameters_V1.xlsx', sheet_name=11)\n",
    "\n",
    "DB_df=pd.DataFrame(DBL_b)\n",
    "\n",
    "DB=DB_df.set_index('B')['Load'].to_dict()\n",
    "\n"
   ]
  },
  {
   "cell_type": "code",
   "execution_count": 10,
   "metadata": {},
   "outputs": [],
   "source": [
    "#Bus loads\n",
    "\n",
    "DeltaB_tk=pd.read_excel('Model Parameters_V1.xlsx', sheet_name=12)\n",
    "\n",
    "DeltaB_df=pd.DataFrame(DeltaB_tk)\n",
    "\n",
    "DeltaB_matrix=DeltaB_df.set_index(['T','B'], inplace=False)\n",
    "\n",
    "DeltaB=DeltaB_matrix.stack().to_dict()"
   ]
  }
 ],
 "metadata": {
  "kernelspec": {
   "display_name": "Python 3",
   "language": "python",
   "name": "python3"
  },
  "language_info": {
   "codemirror_mode": {
    "name": "ipython",
    "version": 3
   },
   "file_extension": ".py",
   "mimetype": "text/x-python",
   "name": "python",
   "nbconvert_exporter": "python",
   "pygments_lexer": "ipython3",
   "version": "3.8.5"
  }
 },
 "nbformat": 4,
 "nbformat_minor": 4
}
